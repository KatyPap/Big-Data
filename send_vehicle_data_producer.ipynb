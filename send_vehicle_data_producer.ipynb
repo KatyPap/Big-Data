{
 "cells": [
  {
   "cell_type": "markdown",
   "metadata": {},
   "source": [
    "## Generate simulation data   "
   ]
  },
  {
   "cell_type": "code",
   "execution_count": 1,
   "metadata": {},
   "outputs": [
    {
     "name": "stdout",
     "output_type": "stream",
     "text": [
      "simulation setting:\n",
      " scenario name: \n",
      " simulation duration:\t 3600 s\n",
      " number of vehicles:\t 14775 veh\n",
      " total road length:\t 6500 m\n",
      " time discret. width:\t 5 s\n",
      " platoon size:\t\t 5 veh\n",
      " number of timesteps:\t 720\n",
      " number of platoons:\t 2955\n",
      " number of links:\t 13\n",
      " number of nodes:\t 14\n",
      " setup time:\t\t 0.07 s\n",
      "simulating...\n",
      "      time| # of vehicles| ave speed| computation time\n",
      "       0 s|        0 vehs|   0.0 m/s|     0.00 s\n"
     ]
    },
    {
     "name": "stderr",
     "output_type": "stream",
     "text": [
      "/home/dimitris/miniconda3/envs/condapy310/lib/python3.10/site-packages/tqdm/auto.py:21: TqdmWarning: IProgress not found. Please update jupyter and ipywidgets. See https://ipywidgets.readthedocs.io/en/stable/user_install.html\n",
      "  from .autonotebook import tqdm as notebook_tqdm\n"
     ]
    },
    {
     "name": "stdout",
     "output_type": "stream",
     "text": [
      "     600 s|      560 vehs|   4.9 m/s|     0.41 s\n",
      "    1200 s|      570 vehs|   4.7 m/s|     0.88 s\n",
      "    1800 s|      555 vehs|   3.7 m/s|     1.31 s\n",
      "    2400 s|      575 vehs|   4.3 m/s|     1.73 s\n",
      "    3000 s|      570 vehs|   4.5 m/s|     2.12 s\n",
      "    3600 s|      575 vehs|   2.3 m/s|     2.49 s\n",
      " simulation finished\n",
      "results:\n",
      " average speed:\t 8.3 m/s\n",
      " number of completed trips:\t 6920 / 14775\n",
      " average travel time of trips:\t 924.5 s\n",
      " average delay of trips:\t 884.1 s\n",
      " delay ratio:\t\t\t 0.956\n",
      " total distance traveled:\t 12178916.7 m\n"
     ]
    },
    {
     "data": {
      "text/html": [
       "<div>\n",
       "<style scoped>\n",
       "    .dataframe tbody tr th:only-of-type {\n",
       "        vertical-align: middle;\n",
       "    }\n",
       "\n",
       "    .dataframe tbody tr th {\n",
       "        vertical-align: top;\n",
       "    }\n",
       "\n",
       "    .dataframe thead th {\n",
       "        text-align: right;\n",
       "    }\n",
       "</style>\n",
       "<table border=\"1\" class=\"dataframe\">\n",
       "  <thead>\n",
       "    <tr style=\"text-align: right;\">\n",
       "      <th></th>\n",
       "      <th>total_trips</th>\n",
       "      <th>completed_trips</th>\n",
       "      <th>total_travel_time</th>\n",
       "      <th>average_travel_time</th>\n",
       "      <th>total_delay</th>\n",
       "      <th>average_delay</th>\n",
       "    </tr>\n",
       "  </thead>\n",
       "  <tbody>\n",
       "    <tr>\n",
       "      <th>0</th>\n",
       "      <td>14775</td>\n",
       "      <td>6920</td>\n",
       "      <td>6397775.0</td>\n",
       "      <td>924.53396</td>\n",
       "      <td>6118025.0</td>\n",
       "      <td>884.107659</td>\n",
       "    </tr>\n",
       "  </tbody>\n",
       "</table>\n",
       "</div>"
      ],
      "text/plain": [
       "   total_trips  completed_trips  total_travel_time  average_travel_time  \\\n",
       "0        14775             6920          6397775.0            924.53396   \n",
       "\n",
       "   total_delay  average_delay  \n",
       "0    6118025.0     884.107659  "
      ]
     },
     "execution_count": 1,
     "metadata": {},
     "output_type": "execute_result"
    }
   ],
   "source": [
    "#https://toruseo.jp/UXsim/docs/index.html\n",
    "\n",
    "from uxsim import *\n",
    "import itertools\n",
    "import random\n",
    "seed = None\n",
    "\n",
    "W = World(\n",
    "    name=\"\",\n",
    "    deltan=5,\n",
    "    tmax=3600, #1 hour simulation\n",
    "    print_mode=1, save_mode=0, show_mode=1,\n",
    "    random_seed=seed,\n",
    "    duo_update_time=600\n",
    ")\n",
    "random.seed(seed)\n",
    "\n",
    "# network definition\n",
    "\"\"\"\n",
    "    N1  N2  N3  N4 \n",
    "    |   |   |   |\n",
    "W1--I1--I2--I3--I4-<E1\n",
    "    |   |   |   |\n",
    "    v   ^   v   ^\n",
    "    S1  S2  S3  S4\n",
    "\"\"\"\n",
    "\n",
    "signal_time = 20\n",
    "sf_1=1\n",
    "sf_2=1\n",
    "\n",
    "I1 = W.addNode(\"I1\", 1, 0, signal=[signal_time*sf_1,signal_time*sf_2])\n",
    "I2 = W.addNode(\"I2\", 2, 0, signal=[signal_time*sf_1,signal_time*sf_2])\n",
    "I3 = W.addNode(\"I3\", 3, 0, signal=[signal_time*sf_1,signal_time*sf_2])\n",
    "I4 = W.addNode(\"I4\", 4, 0, signal=[signal_time*sf_1,signal_time*sf_2])\n",
    "W1 = W.addNode(\"W1\", 0, 0)\n",
    "E1 = W.addNode(\"E1\", 5, 0)\n",
    "N1 = W.addNode(\"N1\", 1, 1)\n",
    "N2 = W.addNode(\"N2\", 2, 1)\n",
    "N3 = W.addNode(\"N3\", 3, 1)\n",
    "N4 = W.addNode(\"N4\", 4, 1)\n",
    "S1 = W.addNode(\"S1\", 1, -1)\n",
    "S2 = W.addNode(\"S2\", 2, -1)\n",
    "S3 = W.addNode(\"S3\", 3, -1)\n",
    "S4 = W.addNode(\"S4\", 4, -1)\n",
    "\n",
    "#E <-> W direction: signal group 0\n",
    "for n1,n2 in [[W1, I1], [I1, I2], [I2, I3], [I3, I4], [I4, E1]]:\n",
    "    W.addLink(n2.name+n1.name, n2, n1, length=500, free_flow_speed=50, jam_density=0.2, number_of_lanes=3, signal_group=0)\n",
    "    \n",
    "#N -> S direction: signal group 1\n",
    "for n1,n2 in [[N1, I1], [I1, S1], [N3, I3], [I3, S3]]:\n",
    "    W.addLink(n1.name+n2.name, n1, n2, length=500, free_flow_speed=30, jam_density=0.2, signal_group=1)\n",
    "\n",
    "#S -> N direction: signal group 2\n",
    "for n1,n2 in [[N2, I2], [I2, S2], [N4, I4], [I4, S4]]:\n",
    "    W.addLink(n2.name+n1.name, n2, n1, length=500, free_flow_speed=30, jam_density=0.2, signal_group=1)\n",
    "    \n",
    "\n",
    "# random demand definition every 30 seconds\n",
    "dt = 30\n",
    "demand = 2 #average demand for the simulation time\n",
    "demands = []\n",
    "for t in range(0, 3600, dt):\n",
    "    dem = random.uniform(0, demand)\n",
    "    for n1, n2 in [[N1, S1], [S2, N2], [N3, S3], [S4, N4]]:\n",
    "        W.adddemand(n1, n2, t, t+dt, dem*0.25)\n",
    "        demands.append({\"start\":n1.name, \"dest\":n2.name, \"times\":{\"start\":t,\"end\":t+dt}, \"demand\":dem})\n",
    "    for n1, n2 in [[E1, W1], [N1, W1], [S2, W1], [N3, W1],[S4, W1]]:\n",
    "        W.adddemand(n1, n2, t, t+dt, dem*0.75)\n",
    "        demands.append({\"start\":n1.name, \"dest\":n2.name, \"times\":{\"start\":t,\"end\":t+dt}, \"demand\":dem})\n",
    "\n",
    "W.exec_simulation()\n",
    "W.analyzer.print_simple_stats()\n",
    "W.analyzer.basic_to_pandas()"
   ]
  },
  {
   "cell_type": "markdown",
   "metadata": {},
   "source": [
    "## Connect to kafka broker and create topic “vehicle_positions”"
   ]
  },
  {
   "cell_type": "code",
   "execution_count": 2,
   "metadata": {},
   "outputs": [
    {
     "name": "stdout",
     "output_type": "stream",
     "text": [
      "topic: vehicle_positions already existed\n",
      "Topics: ['my_first_topic', 'vehicle_positions', '__consumer_offsets']\n"
     ]
    }
   ],
   "source": [
    "# first set up the and run the kafka server also install kafka-python. The commands can be found in 'kakfa commands.txt'\n",
    "\n",
    "from kafka import KafkaAdminClient\n",
    "from kafka.admin import NewTopic\n",
    "\n",
    "# Create an instance of KafkaAdminClient\n",
    "admin_client = KafkaAdminClient(\n",
    "    bootstrap_servers=\"localhost:9092\",  # Update with your Kafka broker(s)\n",
    "    client_id='my_client'\n",
    ")\n",
    "\n",
    "topic_name = 'vehicle_positions'\n",
    "num_partitions = 1\n",
    "replication_factor = 1\n",
    "topic_configs = {\"retention.ms\": str(60000), # all messages that are older than 10 min in the topic get deleted\n",
    "                 \"retention.bytes\": str(int(100e6)), #when the messages in the topic exide 100 MB old messages get deleted \n",
    "                 'max.message.bytes': str(int(5e6))} #max allowed size in MB of each message set to 5MB \n",
    "\n",
    "try:\n",
    "    my_first_topic = NewTopic(name=topic_name, num_partitions=num_partitions,\n",
    "                            replication_factor=replication_factor,\n",
    "                            topic_configs=topic_configs)\n",
    "\n",
    "    admin_client.create_topics(new_topics=[my_first_topic])\n",
    "    print(f'created topic: {topic_name}')\n",
    "except:\n",
    "    pass\n",
    "    print(f'topic: {topic_name} already existed')\n",
    "    \n",
    "# List all topics\n",
    "topics = admin_client.list_topics()\n",
    "print(\"Topics:\", topics)\n"
   ]
  },
  {
   "cell_type": "markdown",
   "metadata": {},
   "source": [
    "## Start sending data to kafka topic"
   ]
  },
  {
   "cell_type": "code",
   "execution_count": null,
   "metadata": {},
   "outputs": [],
   "source": [
    "from datetime import datetime, timedelta\n",
    "import time\n",
    "import random\n",
    "\n",
    "current_time = datetime.now()\n",
    "\n",
    "from kafka import KafkaProducer\n",
    "import json\n",
    "producer = KafkaProducer(bootstrap_servers=['localhost:9092'],\n",
    "                         value_serializer=lambda v: json.dumps(v).encode('utf-8'))\n",
    "df = W.analyzer.vehicles_to_pandas()\n",
    "\n",
    "delay_data = []\n",
    "for t in range(0,3600, 5):\n",
    "    filtered_df = df[(df['t'] == t) & (df['link'] != 'waiting_at_origin_node') & (df['link'] != 'trip_end')]\n",
    "    if len(filtered_df) !=0: print(f'\\n #### Sending data for time {t} seconds #### \\n')\n",
    "    \n",
    "    for data in delay_data:\n",
    "        producer.send(topic_name, value=data, partition=0)# the data is sent to the topic, in a specific partition , if the topic dosent exist it is created \n",
    "        print(data)\n",
    "    delay_data = []\n",
    "    \n",
    "    for row in filtered_df.itertuples():\n",
    "        vehicle_time = current_time + timedelta(seconds=row.t)\n",
    "        vehicle_time = vehicle_time.strftime(\"%d/%m/%Y %H:%M:%S\")\n",
    "        data = {'name':row.name, 'origin':row.orig, 'destination': row.dest, 'time': vehicle_time, 'link':row.link, 'position':row.x, 'spacing':row.s, 'speed':row.v}\n",
    "        \n",
    "        if random.randint(0,9) ==0:\n",
    "            delay_data.append(data)\n",
    "            continue\n",
    "        \n",
    "        producer.send(topic_name, value=data, partition=0)# the data is sent to the topic, in a specific partition , if the topic dosent exist it is created \n",
    "        print(data)\n",
    "    time.sleep(5)#sleep time can be modified if we want to send data faster, sparks watermark will work right because it takes into accoutn not the current time of the host machine but of the timespamp of the latest data send\n",
    "\n",
    "producer.flush()# block until all async messages are sent \n",
    "producer.close()# close the connection"
   ]
  },
  {
   "cell_type": "code",
   "execution_count": 5,
   "metadata": {},
   "outputs": [
    {
     "data": {
      "text/plain": [
       "DeleteTopicsResponse_v3(throttle_time_ms=0, topic_error_codes=[(topic='vehicle_positions', error_code=0)])"
      ]
     },
     "execution_count": 5,
     "metadata": {},
     "output_type": "execute_result"
    }
   ],
   "source": [
    "admin_client.delete_topics(topics=[topic_name])"
   ]
  }
 ],
 "metadata": {
  "kernelspec": {
   "display_name": "condapy310",
   "language": "python",
   "name": "python3"
  },
  "language_info": {
   "codemirror_mode": {
    "name": "ipython",
    "version": 3
   },
   "file_extension": ".py",
   "mimetype": "text/x-python",
   "name": "python",
   "nbconvert_exporter": "python",
   "pygments_lexer": "ipython3",
   "version": "3.10.13"
  }
 },
 "nbformat": 4,
 "nbformat_minor": 2
}
